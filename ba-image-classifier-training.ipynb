{
  "nbformat": 4,
  "nbformat_minor": 0,
  "metadata": {
    "accelerator": "GPU",
    "colab": {
      "name": "BA Parking Lot Classifier",
      "provenance": [],
      "collapsed_sections": [
        "n_JfX6T92mBU",
        "4TtD2AqM21MI"
      ],
      "toc_visible": true
    },
    "kernelspec": {
      "display_name": "Python 3",
      "name": "python3"
    }
  },
  "cells": [
    {
      "cell_type": "markdown",
      "metadata": {
        "colab_type": "text",
        "id": "oYM61xrTsP5d"
      },
      "source": [
        "# Image Classifier Training\n"
      ]
    },
    {
      "cell_type": "markdown",
      "metadata": {
        "colab_type": "text",
        "id": "bL54LWCHt5q5"
      },
      "source": [
        "## Setup"
      ]
    },
    {
      "cell_type": "code",
      "metadata": {
        "colab_type": "code",
        "id": "dlauq-4FWGZM",
        "colab": {
          "base_uri": "https://localhost:8080/",
          "height": 119
        },
        "outputId": "f10cf39d-38ed-4904-d337-90886a0cf641"
      },
      "source": [
        "import itertools\n",
        "import os\n",
        "\n",
        "import matplotlib.pylab as plt\n",
        "import numpy as np\n",
        "\n",
        "import tensorflow as tf\n",
        "import tensorflow_hub as hub\n",
        "\n",
        "print(\"TF version:\", tf.__version__)\n",
        "print(\"Hub version:\", hub.__version__)\n",
        "print(\"GPU is\", \"available\" if tf.test.is_gpu_available() else \"NOT AVAILABLE\")"
      ],
      "execution_count": 1,
      "outputs": [
        {
          "output_type": "stream",
          "text": [
            "TF version: 2.3.0\n",
            "Hub version: 0.9.0\n",
            "WARNING:tensorflow:From <ipython-input-1-0831fa394ed3>:12: is_gpu_available (from tensorflow.python.framework.test_util) is deprecated and will be removed in a future version.\n",
            "Instructions for updating:\n",
            "Use `tf.config.list_physical_devices('GPU')` instead.\n",
            "GPU is available\n"
          ],
          "name": "stdout"
        }
      ]
    },
    {
      "cell_type": "markdown",
      "metadata": {
        "id": "n_JfX6T92mBU",
        "colab_type": "text"
      },
      "source": [
        "## Download Datasets\n",
        "\n",
        "Downloads PKLot, CNR-Park and CNR-EXT Datasets for training"
      ]
    },
    {
      "cell_type": "code",
      "execution_count": null,
      "metadata": {},
      "outputs": [],
      "source": [
        "%cd /content\n",
        "%mkdir -p datasets/{processed,source}\n",
        "\n",
        "!wget http://www.inf.ufpr.br/vri/databases/PKLot.tar.gz\n",
        "!wget http://cnrpark.it/dataset/CNR-EXT-Patches-150x150.zip\n",
        "!wget http://cnrpark.it/dataset/CNRPark-Patches-150x150.zip\n",
        "\n",
        "!tar -xvzf /content/PKLot.tar.gz -C /content/datasets/source\n",
        "!unzip /content/CNR-EXT-Patches-150x150.zip -d /content/datasets/source/CNR-EXT-Patches-150x150\n",
        "!unzip /content/CNRPark-Patches-150x150.zip -d /content/datasets/source/CNRPark-Patches-150x150\n",
        "\n",
        "!rm -rf /content/PKLot.tar.gz\n",
        "!rm -rf /content/CNR-EXT-Patches-150x150.zip\n",
        "!rm -rf /content/CNRPark-Patches-150x150.zip"
      ]
    },
    {
      "cell_type": "markdown",
      "metadata": {
        "id": "4TtD2AqM21MI",
        "colab_type": "text"
      },
      "source": [
        "## Copy images\n",
        "Copy images according to their folder according to their class"
      ]
    },
    {
      "cell_type": "code",
      "execution_count": null,
      "metadata": {},
      "outputs": [],
      "source": [
        "import os\n",
        "import re\n",
        "from shutil import copyfile\n",
        "import math\n",
        "import random\n",
        "\n",
        "CNR_EXT_PATH = '/content/datasets/source/CNR-EXT-Patches-150x150'\n",
        "CNR_PARK_PATH = '/content/datasets/source/CNRPark-Patches-150x150'\n",
        "PKLOT_PATH = '/content/datasets/source/PKLot'\n",
        "\n",
        "DESTINATION = '/content/datasets/processed'\n",
        "\n",
        "EMPTY_DIR = os.path.join(DESTINATION, 'empty')\n",
        "OCCUPIED_DIR = os.path.join(DESTINATION, 'occupied')\n",
        "\n",
        "def setup_folders():\n",
        "    if not os.path.exists(EMPTY_DIR):\n",
        "        os.makedirs(EMPTY_DIR)\n",
        "    if not os.path.exists(OCCUPIED_DIR):\n",
        "        os.makedirs(OCCUPIED_DIR)\n",
        "\n",
        "def copy_images(source_dir, image_class):\n",
        "    # create list of all images in dir\n",
        "    image_list = [f for f in os.listdir(source_dir)\n",
        "        if re.search(r'([a-zA-Z0-9\\s_\\\\.\\-\\(\\):])+(.jpg|.jpeg|.png)$', f)]\n",
        "\n",
        "    for filename in image_list:\n",
        "        if os.path.isfile(os.path.join(source_dir, filename)):\n",
        "            if image_class == 0:\n",
        "                copyfile(\n",
        "                    os.path.join(source_dir, filename),\n",
        "                    os.path.join(EMPTY_DIR, filename)\n",
        "                )\n",
        "            elif image_class == 1:\n",
        "                copyfile(\n",
        "                    os.path.join(source_dir, filename),\n",
        "                    os.path.join(OCCUPIED_DIR, filename)\n",
        "                )\n",
        "\n",
        "def copy_cnr_park(path):\n",
        "    print('Copying CNR Park Dataset...')\n",
        "    for camera in os.listdir(path):\n",
        "        if camera.startswith('.'): continue # ignore hidden files\n",
        "        camera_path = os.path.join(path, camera)\n",
        "        for image_dir in os.listdir(camera_path):\n",
        "            if image_dir.startswith('.'): continue # ignore hidden files\n",
        "            dir = os.path.join(camera_path, image_dir)\n",
        "            if image_dir == 'busy':\n",
        "                print('Copying ' + dir)\n",
        "                copy_images(dir, 1)\n",
        "            if image_dir == 'free':\n",
        "                print('Copying ' + dir)\n",
        "                copy_images(dir, 0)\n",
        "    print('Finished')\n",
        "\n",
        "def copy_pklot(path):\n",
        "    print('Copying PKLot Dataset...')\n",
        "    patches_path = os.path.join(path, 'PKLotSegmented')\n",
        "\n",
        "    for camera in os.listdir(patches_path):\n",
        "        if camera.startswith('.'): continue # ignore hidden files\n",
        "        camera_dir = os.path.join(patches_path, camera)\n",
        "\n",
        "        for weather in os.listdir(camera_dir):\n",
        "            if weather.startswith('.'): continue # ignore hidden files\n",
        "            weather_dir = os.path.join(camera_dir, weather)\n",
        "\n",
        "            for date in os.listdir(weather_dir):\n",
        "                if date.startswith('.'): continue # ignore hidden files\n",
        "                date_dir = os.path.join(weather_dir, date)\n",
        "\n",
        "                for image_dir in os.listdir(date_dir):\n",
        "                    if image_dir.startswith('.'): continue # ignore hidden files\n",
        "                    dir = os.path.join(date_dir, image_dir)\n",
        "                    if image_dir == 'Occupied':\n",
        "                        print('Copying ' + dir)\n",
        "                        copy_images(dir, 1)\n",
        "                    if image_dir == 'Empty':\n",
        "                        print('Copying ' + dir)\n",
        "                        copy_images(dir, 0)\n",
        "    print('Finished')\n",
        "\n",
        "def copy_cnr_ext(path):\n",
        "    print('Copying CNR EXT Dataset...')\n",
        "\n",
        "    labels_path = os.path.join(path, 'LABELS/all.txt')\n",
        "    labels_file = open(labels_path, 'r')\n",
        "    labels = labels_file.readlines()\n",
        "\n",
        "    for label in labels:\n",
        "        file = label.strip().split()[0]\n",
        "        image_class = label.strip().split()[1]\n",
        "        file_name = os.path.basename(file)\n",
        "        image_path = os.path.join(path, 'PATCHES/' + file)\n",
        "\n",
        "        if os.path.isfile(image_path):\n",
        "            if image_class == '0':\n",
        "                copyfile(\n",
        "                    image_path,\n",
        "                    os.path.join(EMPTY_DIR, file_name)\n",
        "                )\n",
        "            elif label == '1':\n",
        "                copyfile(\n",
        "                    image_path,\n",
        "                    os.path.join(OCCUPIED_DIR, file_name)\n",
        "                )\n",
        "\n",
        "    print('Finished')\n",
        "\n",
        "setup_folders()\n",
        "copy_cnr_park(CNR_PARK_PATH)\n",
        "copy_pklot(PKLOT_PATH)\n",
        "copy_cnr_ext(CNR_EXT_PATH)\n"
      ]
    },
    {
      "cell_type": "markdown",
      "metadata": {
        "colab_type": "text",
        "id": "mmaHHH7Pvmth"
      },
      "source": [
        "## Select the TF2 model"
      ]
    },
    {
      "cell_type": "code",
      "metadata": {
        "colab_type": "code",
        "id": "FlsEcKVeuCnf",
        "colab": {
          "base_uri": "https://localhost:8080/",
          "height": 34
        },
        "outputId": "6476c2a4-0ae2-43a1-9766-0b2fdab67801"
      },
      "source": [
        "module_selection = (\"mobilenet_v2_100_224\", 224)\n",
        "handle_base, pixels = module_selection\n",
        "MODULE_HANDLE =\"https://tfhub.dev/google/imagenet/{}/feature_vector/4\".format(handle_base)\n",
        "IMAGE_SIZE = (pixels, pixels)\n",
        "print(\"Using {} with input size {}\".format(MODULE_HANDLE, IMAGE_SIZE))\n",
        "\n",
        "BATCH_SIZE = 32"
      ],
      "execution_count": 4,
      "outputs": [
        {
          "output_type": "stream",
          "text": [
            "Using https://tfhub.dev/google/imagenet/mobilenet_v2_100_224/feature_vector/4 with input size (224, 224)\n"
          ],
          "name": "stdout"
        }
      ]
    },
    {
      "cell_type": "markdown",
      "metadata": {
        "colab_type": "text",
        "id": "yTY8qzyYv3vl"
      },
      "source": [
        "## Set up the dataset\n",
        "\n",
        "Resize images, split dataset into 0.25 validation and 0.75 training"
      ]
    },
    {
      "cell_type": "code",
      "metadata": {
        "colab_type": "code",
        "id": "WBtFK1hO8KsO",
        "colab": {}
      },
      "source": [
        "data_dir = '/content/datasets/processed'"
      ],
      "execution_count": 5,
      "outputs": []
    },
    {
      "cell_type": "code",
      "metadata": {
        "colab_type": "code",
        "id": "umB5tswsfTEQ",
        "colab": {
          "base_uri": "https://localhost:8080/",
          "height": 51
        },
        "outputId": "4eb85f5b-c360-400b-dc22-f1b6dd806ac9"
      },
      "source": [
        "datagen_kwargs = dict(rescale=1./255, validation_split=.25)\n",
        "dataflow_kwargs = dict(target_size=IMAGE_SIZE, batch_size=BATCH_SIZE,\n",
        "                   interpolation=\"bilinear\")\n",
        "\n",
        "valid_datagen = tf.keras.preprocessing.image.ImageDataGenerator(\n",
        "    **datagen_kwargs)\n",
        "valid_generator = valid_datagen.flow_from_directory(\n",
        "    data_dir, subset=\"validation\", shuffle=False, **dataflow_kwargs)\n",
        "\n",
        "train_datagen = valid_datagen\n",
        "train_generator = train_datagen.flow_from_directory(\n",
        "    data_dir, subset=\"training\", shuffle=True, **dataflow_kwargs)"
      ],
      "execution_count": 6,
      "outputs": [
        {
          "output_type": "stream",
          "text": [
            "Found 193522 images belonging to 2 classes.\n",
            "Found 580571 images belonging to 2 classes.\n"
          ],
          "name": "stdout"
        }
      ]
    },
    {
      "cell_type": "markdown",
      "metadata": {
        "colab_type": "text",
        "id": "FS_gVStowW3G"
      },
      "source": [
        "## Defining the model\n",
        "\n",
        "Put a linear classifier on top of the `feature_extractor_layer` with the Hub module.\n",
        "\n",
        "Enable fine-tuning to train params of feature extractor."
      ]
    },
    {
      "cell_type": "code",
      "metadata": {
        "colab_type": "code",
        "id": "RaJW3XrPyFiF",
        "colab": {}
      },
      "source": [
        "do_fine_tuning = True #@param {type:\"boolean\"}"
      ],
      "execution_count": 7,
      "outputs": []
    },
    {
      "cell_type": "code",
      "metadata": {
        "colab_type": "code",
        "id": "50FYNIb1dmJH",
        "colab": {
          "base_uri": "https://localhost:8080/",
          "height": 272
        },
        "outputId": "0720b36e-b831-4277-e2e1-1ff367199af9"
      },
      "source": [
        "print(\"Building model with\", MODULE_HANDLE)\n",
        "model = tf.keras.Sequential([\n",
        "    tf.keras.layers.InputLayer(input_shape=IMAGE_SIZE + (3,)),\n",
        "    hub.KerasLayer(MODULE_HANDLE, trainable=do_fine_tuning),\n",
        "    tf.keras.layers.Dropout(rate=0.2),\n",
        "    tf.keras.layers.Dense(train_generator.num_classes,\n",
        "                          kernel_regularizer=tf.keras.regularizers.l2(0.0001))\n",
        "])\n",
        "model.build((None,)+IMAGE_SIZE+(3,))\n",
        "model.summary()"
      ],
      "execution_count": 8,
      "outputs": [
        {
          "output_type": "stream",
          "text": [
            "Building model with https://tfhub.dev/google/imagenet/mobilenet_v2_100_224/feature_vector/4\n",
            "Model: \"sequential\"\n",
            "_________________________________________________________________\n",
            "Layer (type)                 Output Shape              Param #   \n",
            "=================================================================\n",
            "keras_layer (KerasLayer)     (None, 1280)              2257984   \n",
            "_________________________________________________________________\n",
            "dropout (Dropout)            (None, 1280)              0         \n",
            "_________________________________________________________________\n",
            "dense (Dense)                (None, 2)                 2562      \n",
            "=================================================================\n",
            "Total params: 2,260,546\n",
            "Trainable params: 2,226,434\n",
            "Non-trainable params: 34,112\n",
            "_________________________________________________________________\n"
          ],
          "name": "stdout"
        }
      ]
    },
    {
      "cell_type": "markdown",
      "metadata": {
        "colab_type": "text",
        "id": "u2e5WupIw2N2"
      },
      "source": [
        "## Training the model"
      ]
    },
    {
      "cell_type": "code",
      "metadata": {
        "colab_type": "code",
        "id": "9f3yBUvkd_VJ",
        "colab": {}
      },
      "source": [
        "model.compile(\n",
        "  optimizer=tf.keras.optimizers.SGD(lr=0.005, momentum=0.9), \n",
        "  loss=tf.keras.losses.CategoricalCrossentropy(from_logits=True, label_smoothing=0.1),\n",
        "  metrics=['accuracy'])"
      ],
      "execution_count": 9,
      "outputs": []
    },
    {
      "cell_type": "code",
      "metadata": {
        "colab_type": "code",
        "id": "w_YKX2Qnfg6x",
        "colab": {
          "base_uri": "https://localhost:8080/",
          "height": 173
        },
        "outputId": "2ad0704b-6c6e-4ee6-830c-56405a9bdfe0"
      },
      "source": [
        "steps_per_epoch = train_generator.samples // train_generator.batch_size\n",
        "validation_steps = valid_generator.samples // valid_generator.batch_size\n",
        "hist = model.fit(\n",
        "    train_generator,\n",
        "    epochs=3, steps_per_epoch=steps_per_epoch,\n",
        "    validation_data=valid_generator,\n",
        "    validation_steps=validation_steps).history"
      ],
      "execution_count": 10,
      "outputs": [
        {
          "output_type": "stream",
          "text": [
            "Epoch 1/3\n",
            "    2/18142 [..............................] - ETA: 47:23 - loss: 0.7769 - accuracy: 0.6250WARNING:tensorflow:Callbacks method `on_train_batch_end` is slow compared to the batch time (batch time: 0.1002s vs `on_train_batch_end` time: 0.2117s). Check your callbacks.\n"
          ],
          "name": "stdout"
        },
        {
          "output_type": "stream",
          "text": [
            "WARNING:tensorflow:Callbacks method `on_train_batch_end` is slow compared to the batch time (batch time: 0.1002s vs `on_train_batch_end` time: 0.2117s). Check your callbacks.\n"
          ],
          "name": "stderr"
        },
        {
          "output_type": "stream",
          "text": [
            "18142/18142 [==============================] - 6122s 337ms/step - loss: 0.2843 - accuracy: 0.9986 - val_loss: 0.2805 - val_accuracy: 0.9984\n",
            "Epoch 2/3\n",
            "18142/18142 [==============================] - 6209s 342ms/step - loss: 0.2751 - accuracy: 0.9996 - val_loss: 0.2750 - val_accuracy: 0.9983\n",
            "Epoch 3/3\n",
            "18142/18142 [==============================] - 6144s 339ms/step - loss: 0.2694 - accuracy: 0.9997 - val_loss: 0.2692 - val_accuracy: 0.9987\n"
          ],
          "name": "stdout"
        }
      ]
    },
    {
      "cell_type": "code",
      "metadata": {
        "colab_type": "code",
        "id": "CYOw0fTO1W4x",
        "colab": {
          "base_uri": "https://localhost:8080/",
          "height": 566
        },
        "outputId": "6e9657b2-79ac-4e72-e5e3-6ee96dc3f061"
      },
      "source": [
        "plt.figure()\n",
        "plt.ylabel(\"Loss (training and validation)\")\n",
        "plt.xlabel(\"Training Steps\")\n",
        "plt.ylim([0,2])\n",
        "plt.plot(hist[\"loss\"])\n",
        "plt.plot(hist[\"val_loss\"])\n",
        "\n",
        "plt.figure()\n",
        "plt.ylabel(\"Accuracy (training and validation)\")\n",
        "plt.xlabel(\"Training Steps\")\n",
        "plt.ylim([0,1])\n",
        "plt.plot(hist[\"accuracy\"])\n",
        "plt.plot(hist[\"val_accuracy\"])\n"
      ],
      "execution_count": 11,
      "outputs": [
        {
          "output_type": "execute_result",
          "data": {
            "text/plain": [
              "[<matplotlib.lines.Line2D at 0x7f693e8d6cc0>]"
            ]
          },
          "metadata": {
            "tags": []
          },
          "execution_count": 11
        },
        {
          "output_type": "display_data",
          "data": {
            "image/png": "[encoded data removed]",
            "text/plain": [
              "<Figure size 432x288 with 1 Axes>"
            ]
          },
          "metadata": {
            "tags": [],
            "needs_background": "light"
          }
        },
        {
          "output_type": "display_data",
          "data": {
            "image/png": "[encoded data removed]",
            "text/plain": [
              "<Figure size 432x288 with 1 Axes>"
            ]
          },
          "metadata": {
            "tags": [],
            "needs_background": "light"
          }
        }
      ]
    },
    {
      "cell_type": "markdown",
      "metadata": {
        "colab_type": "text",
        "id": "YCsAsQM1IRvA"
      },
      "source": [
        "Save trained model for deployment to TF Serving or TF Lite (on mobile)"
      ]
    },
    {
      "cell_type": "code",
      "metadata": {
        "colab_type": "code",
        "id": "LGvTi69oIc2d",
        "colab": {
          "base_uri": "https://localhost:8080/",
          "height": 255
        },
        "outputId": "3cc4fbe9-d2f6-497a-a69f-51b7b583af99"
      },
      "source": [
        "saved_model_path = \"/content/park_mobilenet_v2_100_224\"\n",
        "tf.saved_model.save(model, saved_model_path)"
      ],
      "execution_count": 12,
      "outputs": [
        {
          "output_type": "stream",
          "text": [
            "WARNING:tensorflow:From /usr/local/lib/python3.6/dist-packages/tensorflow/python/training/tracking/tracking.py:111: Model.state_updates (from tensorflow.python.keras.engine.training) is deprecated and will be removed in a future version.\n",
            "Instructions for updating:\n",
            "This property should not be used in TensorFlow 2.0, as updates are applied automatically.\n"
          ],
          "name": "stdout"
        },
        {
          "output_type": "stream",
          "text": [
            "WARNING:tensorflow:From /usr/local/lib/python3.6/dist-packages/tensorflow/python/training/tracking/tracking.py:111: Model.state_updates (from tensorflow.python.keras.engine.training) is deprecated and will be removed in a future version.\n",
            "Instructions for updating:\n",
            "This property should not be used in TensorFlow 2.0, as updates are applied automatically.\n"
          ],
          "name": "stderr"
        },
        {
          "output_type": "stream",
          "text": [
            "WARNING:tensorflow:From /usr/local/lib/python3.6/dist-packages/tensorflow/python/training/tracking/tracking.py:111: Layer.updates (from tensorflow.python.keras.engine.base_layer) is deprecated and will be removed in a future version.\n",
            "Instructions for updating:\n",
            "This property should not be used in TensorFlow 2.0, as updates are applied automatically.\n"
          ],
          "name": "stdout"
        },
        {
          "output_type": "stream",
          "text": [
            "WARNING:tensorflow:From /usr/local/lib/python3.6/dist-packages/tensorflow/python/training/tracking/tracking.py:111: Layer.updates (from tensorflow.python.keras.engine.base_layer) is deprecated and will be removed in a future version.\n",
            "Instructions for updating:\n",
            "This property should not be used in TensorFlow 2.0, as updates are applied automatically.\n"
          ],
          "name": "stderr"
        },
        {
          "output_type": "stream",
          "text": [
            "INFO:tensorflow:Assets written to: /content/park_mobilenet_v2_100_224/assets\n"
          ],
          "name": "stdout"
        },
        {
          "output_type": "stream",
          "text": [
            "INFO:tensorflow:Assets written to: /content/park_mobilenet_v2_100_224/assets\n"
          ],
          "name": "stderr"
        }
      ]
    },
    {
      "cell_type": "code",
      "metadata": {
        "id": "6iKDOCme0m1E",
        "colab_type": "code",
        "colab": {
          "base_uri": "https://localhost:8080/",
          "height": 34
        },
        "outputId": "6691eebe-9e96-4aa8-c0aa-b8872aff15f5"
      },
      "source": [
        "%cd /content\n",
        "!tar -cf park_mobilenet_v2_100_224.tar park_mobilenet_v2_100_224/"
      ],
      "execution_count": 13,
      "outputs": [
        {
          "output_type": "stream",
          "text": [
            "/content\n"
          ],
          "name": "stdout"
        }
      ]
    },
    {
      "cell_type": "markdown",
      "metadata": {
        "id": "q8r_pIRQ1L52",
        "colab_type": "text"
      },
      "source": [
        ""
      ]
    },
    {
      "cell_type": "markdown",
      "metadata": {
        "colab_type": "text",
        "id": "QzW4oNRjILaq"
      },
      "source": [
        "## Convert for TensorFlow Lite"
      ]
    },
    {
      "cell_type": "code",
      "metadata": {
        "colab_type": "code",
        "id": "Va1Vo92fSyV6",
        "colab": {
          "base_uri": "https://localhost:8080/",
          "height": 34
        },
        "outputId": "2e10b983-a18a-435e-c264-9d1a09257ef2"
      },
      "source": [
        "optimize_lite_model = True  #@param {type:\"boolean\"}\n",
        "#@markdown Setting a value greater than zero enables quantization of neural network activations. A few dozen is already a useful amount.\n",
        "num_calibration_examples = 0  #@param {type:\"slider\", min:0, max:1000, step:1}\n",
        "representative_dataset = None\n",
        "if optimize_lite_model and num_calibration_examples:\n",
        "  # Use a bounded number of training examples without labels for calibration.\n",
        "  # TFLiteConverter expects a list of input tensors, each with batch size 1.\n",
        "  representative_dataset = lambda: itertools.islice(\n",
        "      ([image[None, ...]] for batch, _ in train_generator for image in batch),\n",
        "      num_calibration_examples)\n",
        "\n",
        "converter = tf.lite.TFLiteConverter.from_saved_model(saved_model_path)\n",
        "if optimize_lite_model:\n",
        "  converter.optimizations = [tf.lite.Optimize.DEFAULT]\n",
        "  if representative_dataset:  # This is optional, see above.\n",
        "    converter.representative_dataset = representative_dataset\n",
        "lite_model_content = converter.convert()\n",
        "\n",
        "with open(\"/content/park_mobilenet_v2_100_224_lite\", \"wb\") as f:\n",
        "  f.write(lite_model_content)\n",
        "print(\"Wrote %sTFLite model of %d bytes.\" %\n",
        "      (\"optimized \" if optimize_lite_model else \"\", len(lite_model_content)))"
      ],
      "execution_count": 14,
      "outputs": [
        {
          "output_type": "stream",
          "text": [
            "Wrote optimized TFLite model of 2390240 bytes.\n"
          ],
          "name": "stdout"
        }
      ]
    },
    {
      "cell_type": "code",
      "metadata": {
        "colab_type": "code",
        "id": "_wqEmD0xIqeG",
        "colab": {}
      },
      "source": [
        "interpreter = tf.lite.Interpreter(model_content=lite_model_content)\n",
        "def lite_model(images):\n",
        "  interpreter.allocate_tensors()\n",
        "  interpreter.set_tensor(interpreter.get_input_details()[0]['index'], images)\n",
        "  interpreter.invoke()\n",
        "  return interpreter.get_tensor(interpreter.get_output_details()[0]['index'])"
      ],
      "execution_count": 15,
      "outputs": []
    },
    {
      "cell_type": "code",
      "metadata": {
        "colab_type": "code",
        "id": "JMMK-fZrKrk8",
        "colab": {
          "base_uri": "https://localhost:8080/",
          "height": 51
        },
        "outputId": "66736400-d770-4362-e265-f31b91881416"
      },
      "source": [
        "num_eval_examples = 200 \n",
        "eval_dataset = ((image, label)  # TFLite expects batch size 1.\n",
        "                for batch in train_generator\n",
        "                for (image, label) in zip(*batch))\n",
        "count = 0\n",
        "count_lite_tf_agree = 0\n",
        "count_lite_correct = 0\n",
        "for image, label in eval_dataset:\n",
        "  probs_lite = lite_model(image[None, ...])[0]\n",
        "  probs_tf = model(image[None, ...]).numpy()[0]\n",
        "  y_lite = np.argmax(probs_lite)\n",
        "  y_tf = np.argmax(probs_tf)\n",
        "  y_true = np.argmax(label)\n",
        "  count +=1\n",
        "  if y_lite == y_tf: count_lite_tf_agree += 1\n",
        "  if y_lite == y_true: count_lite_correct += 1\n",
        "  if count >= num_eval_examples: break\n",
        "print(\"TF Lite model agrees with original model on %d of %d examples (%g%%).\" %\n",
        "      (count_lite_tf_agree, count, 100.0 * count_lite_tf_agree / count))\n",
        "print(\"TF Lite model is accurate on %d of %d examples (%g%%).\" %\n",
        "      (count_lite_correct, count, 100.0 * count_lite_correct / count))"
      ],
      "execution_count": 16,
      "outputs": [
        {
          "output_type": "stream",
          "text": [
            "TF Lite model agrees with original model on 200 of 200 examples (100%).\n",
            "TF Lite model is accurate on 200 of 200 examples (100%).\n"
          ],
          "name": "stdout"
        }
      ]
    }
  ]
}